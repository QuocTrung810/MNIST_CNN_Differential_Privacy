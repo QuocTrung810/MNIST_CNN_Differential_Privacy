{
 "cells": [
  {
   "cell_type": "markdown",
   "id": "43cb3b02",
   "metadata": {},
   "source": [
    "# I. **Import library**"
   ]
  },
  {
   "cell_type": "code",
   "execution_count": 1,
   "id": "59584c9b-f0fa-42d0-99b0-3978f3587b87",
   "metadata": {},
   "outputs": [],
   "source": [
    "import torch\n",
    "import torch.nn as nn\n",
    "import torch.optim as optim\n",
    "from torchvision import datasets, transforms\n",
    "import matplotlib.pyplot as plt\n",
    "from opacus import PrivacyEngine\n",
    "from opacus.utils.batch_memory_manager import BatchMemoryManager"
   ]
  },
  {
   "cell_type": "code",
   "execution_count": 2,
   "id": "2793942f-caf3-4183-a468-8d25c5670882",
   "metadata": {},
   "outputs": [],
   "source": [
    "# Device configuration\n",
    "device = torch.device(\"cuda\" if torch.cuda.is_available() else \"cpu\")"
   ]
  },
  {
   "cell_type": "markdown",
   "id": "3f5db61c",
   "metadata": {},
   "source": [
    "# **2. Load MNIST dataset**"
   ]
  },
  {
   "cell_type": "code",
   "execution_count": 10,
   "id": "2f6145d1-099f-45ad-8134-a6d52a245f47",
   "metadata": {},
   "outputs": [],
   "source": [
    "transform = transforms.Compose([transforms.ToTensor(), transforms.Normalize((0.1307,), (0.3081,))])\n",
    "# Prepare data\n",
    "train_dataset = datasets.MNIST(root='./data', train=True, download=True, transform=transform)\n",
    "test_dataset = datasets.MNIST(root='./data', train=False, download=True, transform=transform)"
   ]
  },
  {
   "cell_type": "code",
   "execution_count": 11,
   "id": "fa5e8f77-d9cf-495f-8a88-8261e673c5c6",
   "metadata": {},
   "outputs": [],
   "source": [
    "# Data loader\n",
    "train_loader = torch.utils.data.DataLoader(train_dataset, batch_size=64, shuffle=True)\n",
    "test_loader = torch.utils.data.DataLoader(test_dataset, batch_size=1000, shuffle=False)"
   ]
  },
  {
   "cell_type": "markdown",
   "id": "ad0adf8d",
   "metadata": {},
   "source": [
    "# **3. Visualization**"
   ]
  },
  {
   "cell_type": "code",
   "execution_count": 13,
   "id": "dca8eb3e",
   "metadata": {},
   "outputs": [
    {
     "data": {
      "image/png": "[encoded data removed]",
      "text/plain": [
       "<Figure size 1200x600 with 10 Axes>"
      ]
     },
     "metadata": {},
     "output_type": "display_data"
    }
   ],
   "source": [
    "# Visualization\n",
    "def plot_samples(loader):\n",
    "    fig, axes = plt.subplots(2, 5, figsize=(12, 6))\n",
    "    for i, (img, label) in enumerate(loader):\n",
    "        if i >= 10:\n",
    "            break\n",
    "        ax = axes[i//5, i%5]\n",
    "        ax.imshow(img[0].squeeze(), cmap='gray')\n",
    "        ax.set_title(f'Label: {label[0].item()}')\n",
    "        ax.axis('off')\n",
    "    plt.tight_layout()\n",
    "    plt.show()\n",
    "\n",
    "plot_samples(train_loader)"
   ]
  },
  {
   "cell_type": "markdown",
   "id": "b98c9ea7",
   "metadata": {},
   "source": [
    "# **4. Initialize Model**"
   ]
  },
  {
   "cell_type": "code",
   "execution_count": 14,
   "id": "f60c5e0a-738c-4be4-a35e-cc598865bd9c",
   "metadata": {},
   "outputs": [],
   "source": [
    "# Define CNN model\n",
    "class CNN(nn.Module):\n",
    "    def __init__(self):\n",
    "        super(CNN, self).__init__()\n",
    "        self.conv1 = nn.Conv2d(1, 32, 3, 1)\n",
    "        self.conv2 = nn.Conv2d(32, 64, 3, 1)\n",
    "        self.dropout1 = nn.Dropout2d(0.25)\n",
    "        self.dropout2 = nn.Dropout2d(0.5)\n",
    "        self.fc1 = nn.Linear(9216, 128)\n",
    "        self.fc2 = nn.Linear(128, 10)\n",
    "\n",
    "    def forward(self, x):\n",
    "        x = self.conv1(x)\n",
    "        x = nn.functional.relu(x)\n",
    "        x = self.conv2(x)\n",
    "        x = nn.functional.relu(x)\n",
    "        x = nn.functional.max_pool2d(x, 2)\n",
    "        x = self.dropout1(x)\n",
    "        x = torch.flatten(x, 1)\n",
    "        x = self.fc1(x)\n",
    "        x = nn.functional.relu(x)\n",
    "        x = self.dropout2(x)\n",
    "        x = self.fc2(x)\n",
    "        output = nn.functional.log_softmax(x, dim=1)\n",
    "        return output"
   ]
  },
  {
   "cell_type": "code",
   "execution_count": 15,
   "id": "f73506cc-8b43-450c-86e4-009fddb3b9e7",
   "metadata": {},
   "outputs": [],
   "source": [
    "model = CNN().to(device)\n",
    "optimizer = optim.Adam(model.parameters(), lr=0.001)\n",
    "criterion = nn.CrossEntropyLoss()"
   ]
  },
  {
   "cell_type": "markdown",
   "id": "a7d2754f",
   "metadata": {},
   "source": [
    "# **5. Configure DP-SGD**"
   ]
  },
  {
   "cell_type": "code",
   "execution_count": 16,
   "id": "03e623eb-44e2-4486-8e93-e492bdc3b401",
   "metadata": {},
   "outputs": [],
   "source": [
    "# Privacy engine\n",
    "privacy_engine = PrivacyEngine()\n",
    "\n",
    "model, optimizer, train_loader = privacy_engine.make_private_with_epsilon(\n",
    "    module=model,\n",
    "    optimizer=optimizer,\n",
    "    data_loader=train_loader,\n",
    "    epochs=10,\n",
    "    target_epsilon=1.0,\n",
    "    target_delta=1e-5,\n",
    "    max_grad_norm=1.0,\n",
    ")"
   ]
  },
  {
   "cell_type": "markdown",
   "id": "29481051",
   "metadata": {},
   "source": [
    "# **6. Prepare train and test functions**"
   ]
  },
  {
   "cell_type": "code",
   "execution_count": 17,
   "id": "470b621a-4f6d-4a07-9514-4bba0b4b0b07",
   "metadata": {},
   "outputs": [],
   "source": [
    "# Train model with DP\n",
    "def train(model, train_loader, optimizer, epoch):\n",
    "    model.train()\n",
    "    losses = []\n",
    "    for batch_idx, (data, target) in enumerate(train_loader):\n",
    "        data, target = data.to(device), target.to(device)\n",
    "        optimizer.zero_grad()\n",
    "        output = model(data)\n",
    "        loss = criterion(output, target)\n",
    "        loss.backward()\n",
    "        optimizer.step()\n",
    "        losses.append(loss.item())\n",
    "        if batch_idx % 100 == 0:\n",
    "            print(f'Train Epoch: {epoch} [{batch_idx * len(data)}/{len(train_loader.dataset)} '\n",
    "                  f'({100. * batch_idx / len(train_loader):.0f}%)]\\tLoss: {loss.item():.6f}')\n",
    "    return sum(losses) / len(losses)"
   ]
  },
  {
   "cell_type": "code",
   "execution_count": 18,
   "id": "a31e16ea-0690-455b-8218-c6b00cfa39e2",
   "metadata": {},
   "outputs": [],
   "source": [
    "# Test function\n",
    "def test(model, test_loader):\n",
    "    model.eval()\n",
    "    test_loss = 0\n",
    "    correct = 0\n",
    "    with torch.no_grad():\n",
    "        for data, target in test_loader:\n",
    "            data, target = data.to(device), target.to(device)\n",
    "            output = model(data)\n",
    "            test_loss += criterion(output, target).item()\n",
    "            pred = output.argmax(dim=1, keepdim=True)\n",
    "            correct += pred.eq(target.view_as(pred)).sum().item()\n",
    "\n",
    "    test_loss /= len(test_loader.dataset)\n",
    "    accuracy = 100. * correct / len(test_loader.dataset)\n",
    "    print(f'\\nTest set: Average loss: {test_loss:.4f}, Accuracy: {correct}/{len(test_loader.dataset)} ({accuracy:.2f}%)\\n')\n",
    "    return test_loss, accuracy"
   ]
  },
  {
   "cell_type": "markdown",
   "id": "8afe02ee",
   "metadata": {},
   "source": [
    "# **7. Train model**"
   ]
  },
  {
   "cell_type": "code",
   "execution_count": 19,
   "id": "e7c1e021",
   "metadata": {},
   "outputs": [
    {
     "name": "stderr",
     "output_type": "stream",
     "text": [
      "d:\\anaconda3_env\\Lib\\site-packages\\torch\\nn\\modules\\module.py:1640: FutureWarning: Using a non-full backward hook when the forward contains multiple autograd Nodes is deprecated and will be removed in future versions. This hook will be missing some grad_input. Please use register_full_backward_hook to get the documented behavior.\n",
      "  self._maybe_warn_non_full_backward_hook(args, result, grad_fn)\n",
      "d:\\anaconda3_env\\Lib\\site-packages\\torch\\nn\\functional.py:1374: UserWarning: dropout2d: Received a 2-D input to dropout2d, which is deprecated and will result in an error in a future release. To retain the behavior and silence this warning, please use dropout instead. Note that dropout2d exists to provide channel-wise dropout on inputs with 2 spatial dimensions, a channel dimension, and an optional batch dimension (i.e. 3D or 4D inputs).\n",
      "  warnings.warn(warn_msg)\n"
     ]
    },
    {
     "name": "stdout",
     "output_type": "stream",
     "text": [
      "Train Epoch: 1 [0/60000 (0%)]\tLoss: 2.320962\n",
      "Train Epoch: 1 [5400/60000 (11%)]\tLoss: 1.516438\n",
      "Train Epoch: 1 [14400/60000 (21%)]\tLoss: 1.020130\n",
      "Train Epoch: 1 [17700/60000 (32%)]\tLoss: 0.841209\n",
      "Train Epoch: 1 [29600/60000 (43%)]\tLoss: 1.254546\n",
      "Train Epoch: 1 [32500/60000 (53%)]\tLoss: 1.177119\n",
      "Train Epoch: 1 [36600/60000 (64%)]\tLoss: 0.982853\n",
      "Train Epoch: 1 [44100/60000 (75%)]\tLoss: 1.745925\n",
      "Train Epoch: 1 [48800/60000 (85%)]\tLoss: 1.531449\n",
      "Train Epoch: 1 [54900/60000 (96%)]\tLoss: 1.354365\n",
      "\n",
      "Test set: Average loss: 0.0006, Accuracy: 8687/10000 (86.87%)\n",
      "\n",
      "ε: 0.44\n",
      "Train Epoch: 2 [0/60000 (0%)]\tLoss: 0.641718\n",
      "Train Epoch: 2 [6600/60000 (11%)]\tLoss: 1.479589\n",
      "Train Epoch: 2 [10800/60000 (21%)]\tLoss: 0.750894\n",
      "Train Epoch: 2 [19200/60000 (32%)]\tLoss: 1.013017\n",
      "Train Epoch: 2 [24000/60000 (43%)]\tLoss: 1.759115\n",
      "Train Epoch: 2 [31500/60000 (53%)]\tLoss: 2.455307\n",
      "Train Epoch: 2 [45600/60000 (64%)]\tLoss: 1.262108\n",
      "Train Epoch: 2 [38500/60000 (75%)]\tLoss: 1.720254\n",
      "Train Epoch: 2 [47200/60000 (85%)]\tLoss: 1.542821\n",
      "Train Epoch: 2 [60300/60000 (96%)]\tLoss: 1.289616\n",
      "\n",
      "Test set: Average loss: 0.0006, Accuracy: 8844/10000 (88.44%)\n",
      "\n",
      "ε: 0.55\n",
      "Train Epoch: 3 [0/60000 (0%)]\tLoss: 1.286512\n",
      "Train Epoch: 3 [7300/60000 (11%)]\tLoss: 1.464130\n",
      "Train Epoch: 3 [10200/60000 (21%)]\tLoss: 1.453054\n",
      "Train Epoch: 3 [16800/60000 (32%)]\tLoss: 1.468545\n",
      "Train Epoch: 3 [29600/60000 (43%)]\tLoss: 1.479799\n",
      "Train Epoch: 3 [28000/60000 (53%)]\tLoss: 1.630137\n",
      "Train Epoch: 3 [42000/60000 (64%)]\tLoss: 1.804331\n",
      "Train Epoch: 3 [45500/60000 (75%)]\tLoss: 1.332640\n",
      "Train Epoch: 3 [45600/60000 (85%)]\tLoss: 0.995479\n",
      "Train Epoch: 3 [62100/60000 (96%)]\tLoss: 1.056073\n",
      "\n",
      "Test set: Average loss: 0.0006, Accuracy: 8915/10000 (89.15%)\n",
      "\n",
      "ε: 0.63\n",
      "Train Epoch: 4 [0/60000 (0%)]\tLoss: 1.576729\n",
      "Train Epoch: 4 [7900/60000 (11%)]\tLoss: 1.141416\n",
      "Train Epoch: 4 [11000/60000 (21%)]\tLoss: 2.275166\n",
      "Train Epoch: 4 [16200/60000 (32%)]\tLoss: 1.617502\n",
      "Train Epoch: 4 [27200/60000 (43%)]\tLoss: 0.926158\n",
      "Train Epoch: 4 [37000/60000 (53%)]\tLoss: 1.441990\n",
      "Train Epoch: 4 [48000/60000 (64%)]\tLoss: 1.310901\n",
      "Train Epoch: 4 [52500/60000 (75%)]\tLoss: 1.365472\n",
      "Train Epoch: 4 [51200/60000 (85%)]\tLoss: 1.280040\n",
      "Train Epoch: 4 [57600/60000 (96%)]\tLoss: 1.421911\n",
      "\n",
      "Test set: Average loss: 0.0005, Accuracy: 8994/10000 (89.94%)\n",
      "\n",
      "ε: 0.70\n",
      "Train Epoch: 5 [0/60000 (0%)]\tLoss: 0.937454\n",
      "Train Epoch: 5 [5300/60000 (11%)]\tLoss: 1.297895\n",
      "Train Epoch: 5 [13000/60000 (21%)]\tLoss: 2.031852\n",
      "Train Epoch: 5 [18900/60000 (32%)]\tLoss: 1.148274\n",
      "Train Epoch: 5 [23200/60000 (43%)]\tLoss: 1.823206\n",
      "Train Epoch: 5 [27000/60000 (53%)]\tLoss: 0.943557\n",
      "Train Epoch: 5 [32400/60000 (64%)]\tLoss: 2.536101\n",
      "Train Epoch: 5 [39900/60000 (75%)]\tLoss: 1.561282\n",
      "Train Epoch: 5 [47200/60000 (85%)]\tLoss: 2.233356\n",
      "Train Epoch: 5 [54900/60000 (96%)]\tLoss: 1.374541\n",
      "\n",
      "Test set: Average loss: 0.0005, Accuracy: 8986/10000 (89.86%)\n",
      "\n",
      "ε: 0.75\n",
      "Train Epoch: 6 [0/60000 (0%)]\tLoss: 1.441403\n",
      "Train Epoch: 6 [5800/60000 (11%)]\tLoss: 0.454342\n",
      "Train Epoch: 6 [13000/60000 (21%)]\tLoss: 1.173917\n",
      "Train Epoch: 6 [19800/60000 (32%)]\tLoss: 0.517809\n",
      "Train Epoch: 6 [25600/60000 (43%)]\tLoss: 2.538896\n",
      "Train Epoch: 6 [30500/60000 (53%)]\tLoss: 1.162006\n",
      "Train Epoch: 6 [45000/60000 (64%)]\tLoss: 1.684730\n",
      "Train Epoch: 6 [48300/60000 (75%)]\tLoss: 1.264483\n",
      "Train Epoch: 6 [64000/60000 (85%)]\tLoss: 1.163770\n",
      "Train Epoch: 6 [57600/60000 (96%)]\tLoss: 0.659350\n",
      "\n",
      "Test set: Average loss: 0.0005, Accuracy: 9060/10000 (90.60%)\n",
      "\n",
      "ε: 0.81\n",
      "Train Epoch: 7 [0/60000 (0%)]\tLoss: 2.090631\n",
      "Train Epoch: 7 [6400/60000 (11%)]\tLoss: 1.871696\n",
      "Train Epoch: 7 [13400/60000 (21%)]\tLoss: 0.497210\n",
      "Train Epoch: 7 [20700/60000 (32%)]\tLoss: 1.547313\n",
      "Train Epoch: 7 [28400/60000 (43%)]\tLoss: 1.421470\n",
      "Train Epoch: 7 [36500/60000 (53%)]\tLoss: 1.835563\n",
      "Train Epoch: 7 [37800/60000 (64%)]\tLoss: 1.240513\n",
      "Train Epoch: 7 [39200/60000 (75%)]\tLoss: 0.994638\n",
      "Train Epoch: 7 [47200/60000 (85%)]\tLoss: 1.890847\n",
      "Train Epoch: 7 [45900/60000 (96%)]\tLoss: 0.907411\n",
      "\n",
      "Test set: Average loss: 0.0005, Accuracy: 9042/10000 (90.42%)\n",
      "\n",
      "ε: 0.86\n",
      "Train Epoch: 8 [0/60000 (0%)]\tLoss: 2.045484\n",
      "Train Epoch: 8 [6200/60000 (11%)]\tLoss: 1.822691\n",
      "Train Epoch: 8 [11200/60000 (21%)]\tLoss: 1.544360\n",
      "Train Epoch: 8 [12000/60000 (32%)]\tLoss: 1.066442\n",
      "Train Epoch: 8 [30800/60000 (43%)]\tLoss: 1.478832\n",
      "Train Epoch: 8 [30500/60000 (53%)]\tLoss: 0.948752\n",
      "Train Epoch: 8 [40200/60000 (64%)]\tLoss: 1.771573\n",
      "Train Epoch: 8 [49700/60000 (75%)]\tLoss: 1.266105\n",
      "Train Epoch: 8 [48000/60000 (85%)]\tLoss: 1.180950\n",
      "Train Epoch: 8 [53100/60000 (96%)]\tLoss: 1.739513\n",
      "\n",
      "Test set: Average loss: 0.0005, Accuracy: 9140/10000 (91.40%)\n",
      "\n",
      "ε: 0.91\n",
      "Train Epoch: 9 [0/60000 (0%)]\tLoss: 1.087936\n",
      "Train Epoch: 9 [7000/60000 (11%)]\tLoss: 1.297457\n",
      "Train Epoch: 9 [14200/60000 (21%)]\tLoss: 1.425284\n",
      "Train Epoch: 9 [21600/60000 (32%)]\tLoss: 1.616354\n",
      "Train Epoch: 9 [30400/60000 (43%)]\tLoss: 1.524628\n",
      "Train Epoch: 9 [26500/60000 (53%)]\tLoss: 0.752210\n",
      "Train Epoch: 9 [33600/60000 (64%)]\tLoss: 1.003953\n",
      "Train Epoch: 9 [49700/60000 (75%)]\tLoss: 1.715670\n",
      "Train Epoch: 9 [52800/60000 (85%)]\tLoss: 1.536754\n",
      "Train Epoch: 9 [54000/60000 (96%)]\tLoss: 2.021832\n",
      "\n",
      "Test set: Average loss: 0.0005, Accuracy: 9132/10000 (91.32%)\n",
      "\n",
      "ε: 0.95\n",
      "Train Epoch: 10 [0/60000 (0%)]\tLoss: 0.967599\n",
      "Train Epoch: 10 [5600/60000 (11%)]\tLoss: 1.115454\n",
      "Train Epoch: 10 [12600/60000 (21%)]\tLoss: 1.406500\n",
      "Train Epoch: 10 [15600/60000 (32%)]\tLoss: 1.265092\n",
      "Train Epoch: 10 [19200/60000 (43%)]\tLoss: 1.212882\n",
      "Train Epoch: 10 [29000/60000 (53%)]\tLoss: 0.941029\n",
      "Train Epoch: 10 [27600/60000 (64%)]\tLoss: 1.278326\n",
      "Train Epoch: 10 [39200/60000 (75%)]\tLoss: 1.447832\n",
      "Train Epoch: 10 [47200/60000 (85%)]\tLoss: 0.965233\n",
      "Train Epoch: 10 [63000/60000 (96%)]\tLoss: 2.202718\n",
      "\n",
      "Test set: Average loss: 0.0005, Accuracy: 9105/10000 (91.05%)\n",
      "\n",
      "ε: 1.00\n"
     ]
    }
   ],
   "source": [
    "# Train model\n",
    "num_epochs = 10\n",
    "train_losses, test_losses, accuracies = [], [], []\n",
    "\n",
    "for epoch in range(1, num_epochs + 1):\n",
    "    train_loss = train(model, train_loader, optimizer, epoch)\n",
    "    test_loss, accuracy = test(model, test_loader)\n",
    "    train_losses.append(train_loss)\n",
    "    test_losses.append(test_loss)\n",
    "    accuracies.append(accuracy)\n",
    "    \n",
    "    epsilon = privacy_engine.get_epsilon(delta=1e-5)\n",
    "    print(f\"ε: {epsilon:.2f}\")"
   ]
  },
  {
   "cell_type": "markdown",
   "id": "6e2840ac",
   "metadata": {},
   "source": [
    "# **8. Display result**"
   ]
  },
  {
   "cell_type": "code",
   "execution_count": 20,
   "id": "a2bc1ac5",
   "metadata": {},
   "outputs": [
    {
     "data": {
      "image/png": "[encoded data removed]",
      "text/plain": [
       "<Figure size 1200x400 with 2 Axes>"
      ]
     },
     "metadata": {},
     "output_type": "display_data"
    }
   ],
   "source": [
    "# Visualize resutl\n",
    "plt.figure(figsize=(12, 4))\n",
    "plt.subplot(121)\n",
    "plt.plot(range(1, num_epochs + 1), train_losses, label='Train Loss')\n",
    "plt.plot(range(1, num_epochs + 1), test_losses, label='Test Loss')\n",
    "plt.xlabel('Epoch')\n",
    "plt.ylabel('Loss')\n",
    "plt.legend()\n",
    "\n",
    "plt.subplot(122)\n",
    "plt.plot(range(1, num_epochs + 1), accuracies)\n",
    "plt.xlabel('Epoch')\n",
    "plt.ylabel('Accuracy (%)')\n",
    "plt.title('Test Accuracy')\n",
    "\n",
    "plt.tight_layout()\n",
    "plt.show()"
   ]
  },
  {
   "cell_type": "code",
   "execution_count": 21,
   "id": "a5df49bd",
   "metadata": {},
   "outputs": [
    {
     "name": "stdout",
     "output_type": "stream",
     "text": [
      "Final ε: 1.00\n"
     ]
    }
   ],
   "source": [
    "# Final epsilon\n",
    "final_epsilon = privacy_engine.get_epsilon(delta=1e-5)\n",
    "print(f\"Final ε: {final_epsilon:.2f}\")"
   ]
  },
  {
   "cell_type": "markdown",
   "id": "cb392d1e",
   "metadata": {},
   "source": [
    "# **9. Save model**"
   ]
  },
  {
   "cell_type": "code",
   "execution_count": 23,
   "id": "f00da687",
   "metadata": {},
   "outputs": [],
   "source": [
    "torch.save(model.state_dict(), './model_params/dp_cnn.pt')"
   ]
  },
  {
   "cell_type": "code",
   "execution_count": null,
   "id": "d6808c42",
   "metadata": {},
   "outputs": [],
   "source": [
    "# How to load model parameters?\n",
    "# state_dict = torch.load('./model_params/dp_cnn.pt')\n",
    "# new_model = CNN()\n",
    "# new_model.load_state_dict(state_dict=state_dict)"
   ]
  }
 ],
 "metadata": {
  "kernelspec": {
   "display_name": "Python 3 (ipykernel)",
   "language": "python",
   "name": "python3"
  },
  "language_info": {
   "codemirror_mode": {
    "name": "ipython",
    "version": 3
   },
   "file_extension": ".py",
   "mimetype": "text/x-python",
   "name": "python",
   "nbconvert_exporter": "python",
   "pygments_lexer": "ipython3",
   "version": "3.12.4"
  }
 },
 "nbformat": 4,
 "nbformat_minor": 5
}
