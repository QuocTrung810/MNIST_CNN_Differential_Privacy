{
 "cells": [
  {
   "cell_type": "markdown",
   "id": "43cb3b02",
   "metadata": {},
   "source": [
    "# I. **Import library**"
   ]
  },
  {
   "cell_type": "code",
   "execution_count": 14,
   "id": "59584c9b-f0fa-42d0-99b0-3978f3587b87",
   "metadata": {},
   "outputs": [],
   "source": [
    "import torch\n",
    "import torch.nn as nn\n",
    "import torch.optim as optim\n",
    "from torchvision import datasets, transforms\n",
    "import matplotlib.pyplot as plt\n",
    "from opacus import PrivacyEngine\n",
    "from opacus.utils.batch_memory_manager import BatchMemoryManager\n",
    "import warnings\n",
    "\n",
    "warnings.filterwarnings(\"ignore\", category=FutureWarning)"
   ]
  },
  {
   "cell_type": "code",
   "execution_count": 15,
   "id": "2793942f-caf3-4183-a468-8d25c5670882",
   "metadata": {},
   "outputs": [],
   "source": [
    "# Device configuration\n",
    "device = torch.device(\"cuda\" if torch.cuda.is_available() else \"cpu\")"
   ]
  },
  {
   "cell_type": "code",
   "execution_count": 16,
   "id": "1315e256",
   "metadata": {},
   "outputs": [],
   "source": [
    "# Declare parameters\n",
    "batch_size = 64\n",
    "epochs = 10\n",
    "lr = 0.1\n",
    "max_grad_norm = 1.2\n",
    "epsilon = 1.0\n",
    "delta = 1e-5"
   ]
  },
  {
   "cell_type": "markdown",
   "id": "3f5db61c",
   "metadata": {},
   "source": [
    "# **2. Load MNIST dataset**"
   ]
  },
  {
   "cell_type": "code",
   "execution_count": 17,
   "id": "2f6145d1-099f-45ad-8134-a6d52a245f47",
   "metadata": {},
   "outputs": [],
   "source": [
    "transform = transforms.Compose([transforms.ToTensor(), transforms.Normalize((0.1307,), (0.3081,))])\n",
    "# Prepare data\n",
    "train_dataset = datasets.MNIST(root='./data', train=True, download=True, transform=transform)\n",
    "test_dataset = datasets.MNIST(root='./data', train=False, download=True, transform=transform)"
   ]
  },
  {
   "cell_type": "code",
   "execution_count": 18,
   "id": "fa5e8f77-d9cf-495f-8a88-8261e673c5c6",
   "metadata": {},
   "outputs": [],
   "source": [
    "# Data loader\n",
    "train_loader = torch.utils.data.DataLoader(train_dataset, batch_size=64, shuffle=True)\n",
    "test_loader = torch.utils.data.DataLoader(test_dataset, batch_size=1000, shuffle=False)"
   ]
  },
  {
   "cell_type": "markdown",
   "id": "ad0adf8d",
   "metadata": {},
   "source": [
    "# **3. Visualization**"
   ]
  },
  {
   "cell_type": "code",
   "execution_count": 19,
   "id": "dca8eb3e",
   "metadata": {},
   "outputs": [
    {
     "data": {
      "image/png": "[encoded data removed]",
      "text/plain": [
       "<Figure size 1200x600 with 10 Axes>"
      ]
     },
     "metadata": {},
     "output_type": "display_data"
    }
   ],
   "source": [
    "# Visualization\n",
    "def plot_samples(loader):\n",
    "    fig, axes = plt.subplots(2, 5, figsize=(12, 6))\n",
    "    for i, (img, label) in enumerate(loader):\n",
    "        if i >= 10:\n",
    "            break\n",
    "        ax = axes[i//5, i%5]\n",
    "        ax.imshow(img[0].squeeze(), cmap='gray')\n",
    "        ax.set_title(f'Label: {label[0].item()}')\n",
    "        ax.axis('off')\n",
    "    plt.tight_layout()\n",
    "    plt.show()\n",
    "\n",
    "plot_samples(train_loader)"
   ]
  },
  {
   "cell_type": "markdown",
   "id": "b98c9ea7",
   "metadata": {},
   "source": [
    "# **4. Initialize Model**"
   ]
  },
  {
   "cell_type": "code",
   "execution_count": 20,
   "id": "f60c5e0a-738c-4be4-a35e-cc598865bd9c",
   "metadata": {},
   "outputs": [],
   "source": [
    "# Define FNN model\n",
    "class FNN(nn.Module):\n",
    "    def __init__(self):\n",
    "        super(FNN, self).__init__()\n",
    "        self.fc1 = nn.Linear(28 * 28, 128)\n",
    "        self.fc2 = nn.Linear(128, 64)\n",
    "        self.fc3 = nn.Linear(64, 10)\n",
    "\n",
    "    def forward(self, x):\n",
    "        x = x.view(-1, 28 * 28)\n",
    "        x = torch.relu(self.fc1(x))\n",
    "        x = torch.relu(self.fc2(x))\n",
    "        return self.fc3(x)\n",
    "\n",
    "model = FNN().to(device)\n",
    "optimizer = optim.SGD(model.parameters(), lr=lr)\n",
    "criterion = nn.CrossEntropyLoss()"
   ]
  },
  {
   "cell_type": "markdown",
   "id": "a7d2754f",
   "metadata": {},
   "source": [
    "# **5. Configure DP-SGD**\n",
    "[Opacus](https://ai.meta.com/blog/introducing-opacus-a-high-speed-library-for-training-pytorch-models-with-differential-privacy/) is a new high-speed library for training PyTorch models with differential privacy (DP) that’s more scalable than existing state-of-the-art methods. Differential privacy is a mathematically rigorous framework for quantifying the anonymization of sensitive data. It’s often used in analytics, with growing interest in the machine learning (ML) community.\n",
    "\n",
    "Opacus provides:\n",
    "\n",
    "- Speed: By leveraging Autograd hooks in PyTorch, Opacus can compute batched per-sample gradients, resulting in an order of magnitude speedup compared with existing DP libraries that rely on microbatching.\n",
    "\n",
    "- Safety: Opacus uses a \n",
    "cryptographically safe pseudo-random number generator\n",
    " for its security-critical code. This is processed at high speed on the GPU for an entire batch of parameters.\n",
    "\n",
    "- Flexibility: Thanks to PyTorch, engineers and researchers can quickly prototype their ideas by mixing and matching our code with PyTorch code and pure Python code.\n",
    "\n",
    "- Productivity: Opacus comes with tutorials, helper functions that warn about incompatible layers before your training even starts, and automatic refactoring mechanisms.\n",
    "\n",
    "- Interactivity: Opacus keeps track of how much of your privacy budget (a core mathematical concept in DP) you are spending at any given point in time, enabling early stopping and real-time monitoring.\n",
    "\n",
    "<h3>Opacus Workflow</h3>\n",
    "<center>\n",
    "    <video controls src=\"./videos/Opacus_Workflow.mp4\">\n",
    "</center>"
   ]
  },
  {
   "cell_type": "code",
   "execution_count": 21,
   "id": "03e623eb-44e2-4486-8e93-e492bdc3b401",
   "metadata": {},
   "outputs": [
    {
     "name": "stderr",
     "output_type": "stream",
     "text": [
      "d:\\anaconda3_env\\Lib\\site-packages\\opacus\\privacy_engine.py:95: UserWarning: Secure RNG turned off. This is perfectly fine for experimentation as it allows for much faster training performance, but remember to turn it on and retrain one last time before production with ``secure_mode`` turned on.\n",
      "  warnings.warn(\n",
      "d:\\anaconda3_env\\Lib\\site-packages\\opacus\\accountants\\analysis\\rdp.py:332: UserWarning: Optimal order is the largest alpha. Please consider expanding the range of alphas to get a tighter privacy bound.\n",
      "  warnings.warn(\n"
     ]
    }
   ],
   "source": [
    "# Privacy engine\n",
    "privacy_engine = PrivacyEngine()\n",
    "\n",
    "model, optimizer, train_loader = privacy_engine.make_private_with_epsilon(\n",
    "    module=model,\n",
    "    optimizer=optimizer,\n",
    "    data_loader=train_loader,\n",
    "    epochs=epochs,\n",
    "    target_epsilon=epsilon,\n",
    "    target_delta=delta,\n",
    "    max_grad_norm=max_grad_norm,\n",
    ")"
   ]
  },
  {
   "cell_type": "markdown",
   "id": "29481051",
   "metadata": {},
   "source": [
    "# **6. Prepare train and test functions**"
   ]
  },
  {
   "cell_type": "code",
   "execution_count": 22,
   "id": "470b621a-4f6d-4a07-9514-4bba0b4b0b07",
   "metadata": {},
   "outputs": [],
   "source": [
    "# Train model with DP\n",
    "def train(model, train_loader, optimizer, epoch):\n",
    "    model.train()\n",
    "    losses = []\n",
    "    for batch_idx, (data, target) in enumerate(train_loader):\n",
    "        data, target = data.to(device), target.to(device)\n",
    "        optimizer.zero_grad()\n",
    "        output = model(data)\n",
    "        loss = criterion(output, target)\n",
    "        loss.backward()\n",
    "        optimizer.step()\n",
    "        losses.append(loss.item())\n",
    "        if batch_idx % 100 == 0:\n",
    "            print(f'Train Epoch: {epoch} [{batch_idx * len(data)}/{len(train_loader.dataset)} '\n",
    "                  f'({100. * batch_idx / len(train_loader):.0f}%)]\\tLoss: {loss.item():.6f}')\n",
    "    return sum(losses) / len(losses)"
   ]
  },
  {
   "cell_type": "code",
   "execution_count": 23,
   "id": "a31e16ea-0690-455b-8218-c6b00cfa39e2",
   "metadata": {},
   "outputs": [],
   "source": [
    "# Test function\n",
    "def test(model, test_loader):\n",
    "    model.eval()\n",
    "    test_loss = 0\n",
    "    correct = 0\n",
    "    with torch.no_grad():\n",
    "        for data, target in test_loader:\n",
    "            data, target = data.to(device), target.to(device)\n",
    "            output = model(data)\n",
    "            test_loss += criterion(output, target).item()\n",
    "            pred = output.argmax(dim=1, keepdim=True)\n",
    "            correct += pred.eq(target.view_as(pred)).sum().item()\n",
    "\n",
    "    test_loss /= len(test_loader.dataset)\n",
    "    accuracy = 100. * correct / len(test_loader.dataset)\n",
    "    print(f'\\nTest set: Average loss: {test_loss:.4f}, Accuracy: {correct}/{len(test_loader.dataset)} ({accuracy:.2f}%)\\n')\n",
    "    return test_loss, accuracy"
   ]
  },
  {
   "cell_type": "markdown",
   "id": "8afe02ee",
   "metadata": {},
   "source": [
    "# **7. Train model**"
   ]
  },
  {
   "cell_type": "code",
   "execution_count": 24,
   "id": "e7c1e021",
   "metadata": {},
   "outputs": [
    {
     "name": "stdout",
     "output_type": "stream",
     "text": [
      "Train Epoch: 1 [0/60000 (0%)]\tLoss: 2.332835\n",
      "Train Epoch: 1 [7300/60000 (11%)]\tLoss: 1.236381\n",
      "Train Epoch: 1 [11200/60000 (21%)]\tLoss: 0.840621\n",
      "Train Epoch: 1 [21300/60000 (32%)]\tLoss: 0.474037\n",
      "Train Epoch: 1 [28400/60000 (43%)]\tLoss: 0.811779\n",
      "Train Epoch: 1 [27500/60000 (53%)]\tLoss: 0.480093\n",
      "Train Epoch: 1 [50400/60000 (64%)]\tLoss: 0.658980\n",
      "Train Epoch: 1 [35000/60000 (75%)]\tLoss: 0.792365\n",
      "Train Epoch: 1 [50400/60000 (85%)]\tLoss: 0.680274\n",
      "Train Epoch: 1 [54900/60000 (96%)]\tLoss: 0.777298\n",
      "\n",
      "Test set: Average loss: 0.0005, Accuracy: 8784/10000 (87.84%)\n",
      "\n",
      "ε: 0.44\n",
      "Train Epoch: 2 [0/60000 (0%)]\tLoss: 0.456603\n",
      "Train Epoch: 2 [7900/60000 (11%)]\tLoss: 0.770981\n",
      "Train Epoch: 2 [11600/60000 (21%)]\tLoss: 0.415457\n",
      "Train Epoch: 2 [22500/60000 (32%)]\tLoss: 0.289607\n",
      "Train Epoch: 2 [22400/60000 (43%)]\tLoss: 0.499091\n",
      "Train Epoch: 2 [28000/60000 (53%)]\tLoss: 0.124194\n",
      "Train Epoch: 2 [37800/60000 (64%)]\tLoss: 1.100277\n",
      "Train Epoch: 2 [45500/60000 (75%)]\tLoss: 0.652554\n",
      "Train Epoch: 2 [44800/60000 (85%)]\tLoss: 0.584185\n",
      "Train Epoch: 2 [51300/60000 (96%)]\tLoss: 0.698703\n",
      "\n",
      "Test set: Average loss: 0.0005, Accuracy: 8938/10000 (89.38%)\n",
      "\n",
      "ε: 0.55\n",
      "Train Epoch: 3 [0/60000 (0%)]\tLoss: 0.536269\n",
      "Train Epoch: 3 [5900/60000 (11%)]\tLoss: 0.481149\n",
      "Train Epoch: 3 [13000/60000 (21%)]\tLoss: 1.037920\n",
      "Train Epoch: 3 [16200/60000 (32%)]\tLoss: 0.619928\n",
      "Train Epoch: 3 [28800/60000 (43%)]\tLoss: 1.127378\n",
      "Train Epoch: 3 [29500/60000 (53%)]\tLoss: 0.561405\n",
      "Train Epoch: 3 [46200/60000 (64%)]\tLoss: 0.559006\n",
      "Train Epoch: 3 [39900/60000 (75%)]\tLoss: 0.431732\n",
      "Train Epoch: 3 [53600/60000 (85%)]\tLoss: 0.673889\n",
      "Train Epoch: 3 [67500/60000 (96%)]\tLoss: 0.369064\n",
      "\n",
      "Test set: Average loss: 0.0005, Accuracy: 8982/10000 (89.82%)\n",
      "\n",
      "ε: 0.63\n",
      "Train Epoch: 4 [0/60000 (0%)]\tLoss: 0.176177\n",
      "Train Epoch: 4 [7600/60000 (11%)]\tLoss: 0.205925\n",
      "Train Epoch: 4 [11400/60000 (21%)]\tLoss: 0.492058\n",
      "Train Epoch: 4 [20400/60000 (32%)]\tLoss: 0.876585\n",
      "Train Epoch: 4 [26800/60000 (43%)]\tLoss: 0.426199\n",
      "Train Epoch: 4 [28000/60000 (53%)]\tLoss: 0.471040\n",
      "Train Epoch: 4 [35400/60000 (64%)]\tLoss: 0.459382\n",
      "Train Epoch: 4 [44800/60000 (75%)]\tLoss: 0.926295\n",
      "Train Epoch: 4 [53600/60000 (85%)]\tLoss: 0.425153\n",
      "Train Epoch: 4 [64800/60000 (96%)]\tLoss: 0.532276\n",
      "\n",
      "Test set: Average loss: 0.0005, Accuracy: 9041/10000 (90.41%)\n",
      "\n",
      "ε: 0.70\n",
      "Train Epoch: 5 [0/60000 (0%)]\tLoss: 0.411210\n",
      "Train Epoch: 5 [7200/60000 (11%)]\tLoss: 0.332269\n",
      "Train Epoch: 5 [13600/60000 (21%)]\tLoss: 0.835563\n",
      "Train Epoch: 5 [23400/60000 (32%)]\tLoss: 0.545753\n",
      "Train Epoch: 5 [28400/60000 (43%)]\tLoss: 0.792477\n",
      "Train Epoch: 5 [36500/60000 (53%)]\tLoss: 0.927838\n",
      "Train Epoch: 5 [36600/60000 (64%)]\tLoss: 0.748478\n",
      "Train Epoch: 5 [53200/60000 (75%)]\tLoss: 0.983251\n",
      "Train Epoch: 5 [53600/60000 (85%)]\tLoss: 0.905716\n",
      "Train Epoch: 5 [65700/60000 (96%)]\tLoss: 0.597343\n",
      "\n",
      "Test set: Average loss: 0.0005, Accuracy: 9027/10000 (90.27%)\n",
      "\n",
      "ε: 0.75\n",
      "Train Epoch: 6 [0/60000 (0%)]\tLoss: 0.557417\n",
      "Train Epoch: 6 [7300/60000 (11%)]\tLoss: 0.543871\n",
      "Train Epoch: 6 [13400/60000 (21%)]\tLoss: 0.585502\n",
      "Train Epoch: 6 [15300/60000 (32%)]\tLoss: 0.559035\n",
      "Train Epoch: 6 [22400/60000 (43%)]\tLoss: 0.426672\n",
      "Train Epoch: 6 [27000/60000 (53%)]\tLoss: 0.545287\n",
      "Train Epoch: 6 [37200/60000 (64%)]\tLoss: 0.911491\n",
      "Train Epoch: 6 [46200/60000 (75%)]\tLoss: 0.865340\n",
      "Train Epoch: 6 [48000/60000 (85%)]\tLoss: 0.612590\n",
      "Train Epoch: 6 [57600/60000 (96%)]\tLoss: 0.154713\n",
      "\n",
      "Test set: Average loss: 0.0006, Accuracy: 9039/10000 (90.39%)\n",
      "\n",
      "ε: 0.81\n",
      "Train Epoch: 7 [0/60000 (0%)]\tLoss: 0.459480\n",
      "Train Epoch: 7 [6400/60000 (11%)]\tLoss: 0.409319\n",
      "Train Epoch: 7 [13200/60000 (21%)]\tLoss: 0.853469\n",
      "Train Epoch: 7 [15900/60000 (32%)]\tLoss: 1.110054\n",
      "Train Epoch: 7 [30800/60000 (43%)]\tLoss: 0.306143\n",
      "Train Epoch: 7 [28000/60000 (53%)]\tLoss: 0.647774\n",
      "Train Epoch: 7 [39600/60000 (64%)]\tLoss: 0.828245\n",
      "Train Epoch: 7 [43400/60000 (75%)]\tLoss: 0.549057\n",
      "Train Epoch: 7 [56800/60000 (85%)]\tLoss: 0.328696\n",
      "Train Epoch: 7 [51300/60000 (96%)]\tLoss: 1.047718\n",
      "\n",
      "Test set: Average loss: 0.0006, Accuracy: 9044/10000 (90.44%)\n",
      "\n",
      "ε: 0.86\n",
      "Train Epoch: 8 [0/60000 (0%)]\tLoss: 0.879128\n",
      "Train Epoch: 8 [5700/60000 (11%)]\tLoss: 1.636674\n",
      "Train Epoch: 8 [12000/60000 (21%)]\tLoss: 0.109795\n",
      "Train Epoch: 8 [17100/60000 (32%)]\tLoss: 0.732473\n",
      "Train Epoch: 8 [19200/60000 (43%)]\tLoss: 0.319724\n",
      "Train Epoch: 8 [32500/60000 (53%)]\tLoss: 0.523114\n",
      "Train Epoch: 8 [30600/60000 (64%)]\tLoss: 0.025503\n",
      "Train Epoch: 8 [39200/60000 (75%)]\tLoss: 0.399190\n",
      "Train Epoch: 8 [43200/60000 (85%)]\tLoss: 0.582081\n",
      "Train Epoch: 8 [40500/60000 (96%)]\tLoss: 0.130959\n",
      "\n",
      "Test set: Average loss: 0.0006, Accuracy: 9017/10000 (90.17%)\n",
      "\n",
      "ε: 0.91\n",
      "Train Epoch: 9 [0/60000 (0%)]\tLoss: 0.193228\n",
      "Train Epoch: 9 [6600/60000 (11%)]\tLoss: 1.133993\n",
      "Train Epoch: 9 [13200/60000 (21%)]\tLoss: 0.346238\n",
      "Train Epoch: 9 [21300/60000 (32%)]\tLoss: 0.392458\n",
      "Train Epoch: 9 [26400/60000 (43%)]\tLoss: 0.684650\n",
      "Train Epoch: 9 [25500/60000 (53%)]\tLoss: 0.419329\n",
      "Train Epoch: 9 [43200/60000 (64%)]\tLoss: 0.720979\n",
      "Train Epoch: 9 [39900/60000 (75%)]\tLoss: 0.749401\n",
      "Train Epoch: 9 [53600/60000 (85%)]\tLoss: 0.348745\n",
      "Train Epoch: 9 [72900/60000 (96%)]\tLoss: 0.966237\n",
      "\n",
      "Test set: Average loss: 0.0006, Accuracy: 9043/10000 (90.43%)\n",
      "\n",
      "ε: 0.95\n",
      "Train Epoch: 10 [0/60000 (0%)]\tLoss: 0.642797\n",
      "Train Epoch: 10 [5700/60000 (11%)]\tLoss: 0.786267\n",
      "Train Epoch: 10 [10600/60000 (21%)]\tLoss: 0.769639\n",
      "Train Epoch: 10 [23100/60000 (32%)]\tLoss: 0.426695\n",
      "Train Epoch: 10 [25600/60000 (43%)]\tLoss: 0.510620\n",
      "Train Epoch: 10 [28000/60000 (53%)]\tLoss: 0.500331\n",
      "Train Epoch: 10 [38400/60000 (64%)]\tLoss: 0.624124\n",
      "Train Epoch: 10 [31500/60000 (75%)]\tLoss: 0.882881\n",
      "Train Epoch: 10 [45600/60000 (85%)]\tLoss: 0.343901\n",
      "Train Epoch: 10 [56700/60000 (96%)]\tLoss: 0.313392\n",
      "\n",
      "Test set: Average loss: 0.0007, Accuracy: 8984/10000 (89.84%)\n",
      "\n",
      "ε: 1.00\n"
     ]
    }
   ],
   "source": [
    "# Train model\n",
    "num_epochs = 10\n",
    "train_losses, test_losses, accuracies = [], [], []\n",
    "\n",
    "for epoch in range(1, num_epochs + 1):\n",
    "    train_loss = train(model, train_loader, optimizer, epoch)\n",
    "    test_loss, accuracy = test(model, test_loader)\n",
    "    train_losses.append(train_loss)\n",
    "    test_losses.append(test_loss)\n",
    "    accuracies.append(accuracy)\n",
    "    \n",
    "    epsilon = privacy_engine.get_epsilon(delta=delta)\n",
    "    print(f\"ε: {epsilon:.2f}\")"
   ]
  },
  {
   "cell_type": "markdown",
   "id": "6e2840ac",
   "metadata": {},
   "source": [
    "# **8. Display result**"
   ]
  },
  {
   "cell_type": "code",
   "execution_count": 25,
   "id": "a2bc1ac5",
   "metadata": {},
   "outputs": [
    {
     "data": {
      "image/png": "[encoded data removed]",
      "text/plain": [
       "<Figure size 1200x400 with 2 Axes>"
      ]
     },
     "metadata": {},
     "output_type": "display_data"
    }
   ],
   "source": [
    "# Visualize resutl\n",
    "plt.figure(figsize=(12, 4))\n",
    "plt.subplot(121)\n",
    "plt.plot(range(1, num_epochs + 1), train_losses, label='Train Loss')\n",
    "plt.plot(range(1, num_epochs + 1), test_losses, label='Test Loss')\n",
    "plt.xlabel('Epoch')\n",
    "plt.ylabel('Loss')\n",
    "plt.legend()\n",
    "\n",
    "plt.subplot(122)\n",
    "plt.plot(range(1, num_epochs + 1), accuracies)\n",
    "plt.xlabel('Epoch')\n",
    "plt.ylabel('Accuracy (%)')\n",
    "plt.title('Test Accuracy')\n",
    "\n",
    "plt.tight_layout()\n",
    "plt.show()"
   ]
  },
  {
   "cell_type": "code",
   "execution_count": 26,
   "id": "a5df49bd",
   "metadata": {},
   "outputs": [
    {
     "data": {
      "image/png": "[encoded data removed]",
      "text/plain": [
       "<Figure size 1500x300 with 5 Axes>"
      ]
     },
     "metadata": {},
     "output_type": "display_data"
    }
   ],
   "source": [
    "def visualize_predictions(model, test_loader, num_examples=5):\n",
    "    model.eval()\n",
    "    data_iter = iter(test_loader)\n",
    "    fig, axes = plt.subplots(1, num_examples, figsize=(15, 3))\n",
    "    for i in range(num_examples):\n",
    "        data, target = next(data_iter)\n",
    "        data, target = data.to(device), target.to(device)\n",
    "        output = model(data)\n",
    "        pred = output.argmax(dim=1, keepdim=True)\n",
    "        img = data[0].cpu().squeeze().numpy()\n",
    "        axes[i].imshow(img, cmap='gray')\n",
    "        axes[i].set_title(f'Pred: {pred[0].item()}\\nTrue: {target[0].item()}')\n",
    "        axes[i].axis('off')\n",
    "    plt.tight_layout()\n",
    "    plt.show()\n",
    "\n",
    "visualize_predictions(model, test_loader)"
   ]
  },
  {
   "cell_type": "markdown",
   "id": "cb392d1e",
   "metadata": {},
   "source": [
    "# **9. Save model**"
   ]
  },
  {
   "cell_type": "code",
   "execution_count": 27,
   "id": "f00da687",
   "metadata": {},
   "outputs": [],
   "source": [
    "torch.save(model.state_dict(), './model_params/dp_cnn.pt')"
   ]
  },
  {
   "cell_type": "code",
   "execution_count": null,
   "id": "d6808c42",
   "metadata": {},
   "outputs": [],
   "source": [
    "# How to load model parameters?\n",
    "# state_dict = torch.load('./model_params/dp_cnn.pt')\n",
    "# new_model = FNN()\n",
    "# new_model.load_state_dict(state_dict=state_dict)"
   ]
  }
 ],
 "metadata": {
  "kernelspec": {
   "display_name": "Python 3 (ipykernel)",
   "language": "python",
   "name": "python3"
  },
  "language_info": {
   "codemirror_mode": {
    "name": "ipython",
    "version": 3
   },
   "file_extension": ".py",
   "mimetype": "text/x-python",
   "name": "python",
   "nbconvert_exporter": "python",
   "pygments_lexer": "ipython3",
   "version": "3.12.4"
  }
 },
 "nbformat": 4,
 "nbformat_minor": 5
}
