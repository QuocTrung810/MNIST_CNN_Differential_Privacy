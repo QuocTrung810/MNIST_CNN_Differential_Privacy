{
 "cells": [
  {
   "cell_type": "markdown",
   "id": "b7d9de35",
   "metadata": {},
   "source": [
    "# I. **Import library**"
   ]
  },
  {
   "cell_type": "code",
   "execution_count": 1,
   "id": "5917bc89-17fb-484f-b338-fa0c90acd9cb",
   "metadata": {},
   "outputs": [],
   "source": [
    "import torch\n",
    "import torch.nn as nn\n",
    "import torch.optim as optim\n",
    "from torchvision import datasets, transforms\n",
    "import matplotlib.pyplot as plt"
   ]
  },
  {
   "cell_type": "code",
   "execution_count": 2,
   "id": "b86ffd22-c16f-4336-ae11-02e625aaf000",
   "metadata": {},
   "outputs": [],
   "source": [
    "# Device configuration\n",
    "device = torch.device(\"cuda\" if torch.cuda.is_available() else \"cpu\")"
   ]
  },
  {
   "cell_type": "markdown",
   "id": "ca3440f3",
   "metadata": {},
   "source": [
    "# **2. Load MNIST dataset**"
   ]
  },
  {
   "cell_type": "code",
   "execution_count": 3,
   "id": "6da62aa0-a3a9-41d0-832e-7bbe80cdb309",
   "metadata": {},
   "outputs": [],
   "source": [
    "transform = transforms.Compose([transforms.ToTensor(), transforms.Normalize((0.1307,), (0.3081,))])\n",
    "# MNIST dataset \n",
    "train_dataset = datasets.MNIST(root='./data', train=True, download=True, transform=transform)\n",
    "test_dataset = datasets.MNIST(root='./data', train=False, download=True, transform=transform)"
   ]
  },
  {
   "cell_type": "code",
   "execution_count": 4,
   "id": "c9ff65e5-a90e-4343-bb3a-5d1790aa2673",
   "metadata": {},
   "outputs": [],
   "source": [
    "# Data loader\n",
    "train_loader = torch.utils.data.DataLoader(train_dataset, batch_size=64, shuffle=True)\n",
    "test_loader = torch.utils.data.DataLoader(test_dataset, batch_size=1000, shuffle=False)"
   ]
  },
  {
   "cell_type": "markdown",
   "id": "0099b3b6",
   "metadata": {},
   "source": [
    "# **3. Visualization**"
   ]
  },
  {
   "cell_type": "code",
   "execution_count": 5,
   "id": "3eefe974-dd65-4ba9-8179-98bc8016d066",
   "metadata": {},
   "outputs": [
    {
     "data": {
      "image/png": "[encoded data removed]",
      "text/plain": [
       "<Figure size 1200x600 with 10 Axes>"
      ]
     },
     "metadata": {},
     "output_type": "display_data"
    }
   ],
   "source": [
    "# Visualize some examples\n",
    "def plot_samples(loader):\n",
    "    fig, axes = plt.subplots(2, 5, figsize=(12, 6))\n",
    "    for i, (img, label) in enumerate(loader):\n",
    "        if i >= 10:\n",
    "            break\n",
    "        ax = axes[i//5, i%5]\n",
    "        ax.imshow(img[0].squeeze(), cmap='gray')\n",
    "        ax.set_title(f'Label: {label[0].item()}')\n",
    "        ax.axis('off')\n",
    "    plt.tight_layout()\n",
    "    plt.show()\n",
    "\n",
    "plot_samples(train_loader)"
   ]
  },
  {
   "cell_type": "markdown",
   "id": "90b42a73",
   "metadata": {},
   "source": [
    "# **4. Initialize Model**"
   ]
  },
  {
   "cell_type": "code",
   "execution_count": 6,
   "id": "2c055b3c-f40c-46b2-8f79-563425579e58",
   "metadata": {},
   "outputs": [],
   "source": [
    "# Define CNN model\n",
    "class CNN(nn.Module):\n",
    "    def __init__(self):\n",
    "        super(CNN, self).__init__()\n",
    "        self.conv1 = nn.Conv2d(1, 32, 3, 1)\n",
    "        self.conv2 = nn.Conv2d(32, 64, 3, 1)\n",
    "        self.dropout1 = nn.Dropout2d(0.25)\n",
    "        self.dropout2 = nn.Dropout2d(0.5)\n",
    "        self.fc1 = nn.Linear(9216, 128)\n",
    "        self.fc2 = nn.Linear(128, 10)\n",
    "\n",
    "    def forward(self, x):\n",
    "        x = self.conv1(x)\n",
    "        x = nn.functional.relu(x)\n",
    "        x = self.conv2(x)\n",
    "        x = nn.functional.relu(x)\n",
    "        x = nn.functional.max_pool2d(x, 2)\n",
    "        x = self.dropout1(x)\n",
    "        x = torch.flatten(x, 1)\n",
    "        x = self.fc1(x)\n",
    "        x = nn.functional.relu(x)\n",
    "        x = self.dropout2(x)\n",
    "        x = self.fc2(x)\n",
    "        output = nn.functional.log_softmax(x, dim=1)\n",
    "        return output\n",
    "\n",
    "model = CNN().to(device)\n",
    "optimizer = optim.Adam(model.parameters())\n",
    "criterion = nn.CrossEntropyLoss()\n",
    "\n",
    "# Hàm huấn luyện\n",
    "def train(model, train_loader, optimizer, epoch):\n",
    "    model.train()\n",
    "    for batch_idx, (data, target) in enumerate(train_loader):\n",
    "        data, target = data.to(device), target.to(device)\n",
    "        optimizer.zero_grad()\n",
    "        output = model(data)\n",
    "        loss = criterion(output, target)\n",
    "        loss.backward()\n",
    "        optimizer.step()\n",
    "        if batch_idx % 100 == 0:\n",
    "            print(f'Train Epoch: {epoch} [{batch_idx * len(data)}/{len(train_loader.dataset)} '\n",
    "                  f'({100. * batch_idx / len(train_loader):.0f}%)]\\tLoss: {loss.item():.6f}')\n"
   ]
  },
  {
   "cell_type": "code",
   "execution_count": 7,
   "id": "72804e03-6ba9-4880-a25a-0bd2aafb46c8",
   "metadata": {},
   "outputs": [],
   "source": [
    "model = CNN().to(device)\n",
    "optimizer = optim.Adam(model.parameters())\n",
    "criterion = nn.CrossEntropyLoss()"
   ]
  },
  {
   "cell_type": "markdown",
   "id": "abc3799a",
   "metadata": {},
   "source": [
    "# **5. Prepare train and test functions**"
   ]
  },
  {
   "cell_type": "code",
   "execution_count": 8,
   "id": "9a665433-5811-47d5-9b92-e7d56dbb964e",
   "metadata": {},
   "outputs": [],
   "source": [
    "# Train function\n",
    "def train(model, train_loader, optimizer, epoch):\n",
    "    model.train()\n",
    "    for batch_idx, (data, target) in enumerate(train_loader):\n",
    "        data, target = data.to(device), target.to(device)\n",
    "        optimizer.zero_grad()\n",
    "        output = model(data)\n",
    "        loss = criterion(output, target)\n",
    "        loss.backward()\n",
    "        optimizer.step()\n",
    "        if batch_idx % 100 == 0:\n",
    "            print(f'Train Epoch: {epoch} [{batch_idx * len(data)}/{len(train_loader.dataset)} '\n",
    "                  f'({100. * batch_idx / len(train_loader):.0f}%)]\\tLoss: {loss.item():.6f}')"
   ]
  },
  {
   "cell_type": "code",
   "execution_count": 9,
   "id": "2ca6d306-5407-4e53-8340-d50b7454653d",
   "metadata": {},
   "outputs": [],
   "source": [
    "# Test function\n",
    "def test(model, test_loader):\n",
    "    model.eval()\n",
    "    test_loss = 0\n",
    "    correct = 0\n",
    "    with torch.no_grad():\n",
    "        for data, target in test_loader:\n",
    "            data, target = data.to(device), target.to(device)\n",
    "            output = model(data)\n",
    "            test_loss += criterion(output, target).item()\n",
    "            pred = output.argmax(dim=1, keepdim=True)\n",
    "            correct += pred.eq(target.view_as(pred)).sum().item()\n",
    "\n",
    "    test_loss /= len(test_loader.dataset)\n",
    "    accuracy = 100. * correct / len(test_loader.dataset)\n",
    "    print(f'\\nTest set: Average loss: {test_loss:.4f}, Accuracy: {correct}/{len(test_loader.dataset)} ({accuracy:.2f}%)\\n')\n",
    "    return test_loss, accuracy"
   ]
  },
  {
   "cell_type": "markdown",
   "id": "12cbb945",
   "metadata": {},
   "source": [
    "# **7. Train model**"
   ]
  },
  {
   "cell_type": "code",
   "execution_count": 10,
   "id": "1b47a7a2",
   "metadata": {},
   "outputs": [
    {
     "name": "stderr",
     "output_type": "stream",
     "text": [
      "d:\\anaconda3_env\\Lib\\site-packages\\torch\\nn\\functional.py:1374: UserWarning: dropout2d: Received a 2-D input to dropout2d, which is deprecated and will result in an error in a future release. To retain the behavior and silence this warning, please use dropout instead. Note that dropout2d exists to provide channel-wise dropout on inputs with 2 spatial dimensions, a channel dimension, and an optional batch dimension (i.e. 3D or 4D inputs).\n",
      "  warnings.warn(warn_msg)\n"
     ]
    },
    {
     "name": "stdout",
     "output_type": "stream",
     "text": [
      "Train Epoch: 1 [0/60000 (0%)]\tLoss: 2.339031\n",
      "Train Epoch: 1 [6400/60000 (11%)]\tLoss: 0.364516\n",
      "Train Epoch: 1 [12800/60000 (21%)]\tLoss: 0.178018\n",
      "Train Epoch: 1 [19200/60000 (32%)]\tLoss: 0.553317\n",
      "Train Epoch: 1 [25600/60000 (43%)]\tLoss: 0.097452\n",
      "Train Epoch: 1 [32000/60000 (53%)]\tLoss: 0.242040\n",
      "Train Epoch: 1 [38400/60000 (64%)]\tLoss: 0.147312\n",
      "Train Epoch: 1 [44800/60000 (75%)]\tLoss: 0.036613\n",
      "Train Epoch: 1 [51200/60000 (85%)]\tLoss: 0.164932\n",
      "Train Epoch: 1 [57600/60000 (96%)]\tLoss: 0.114877\n",
      "\n",
      "Test set: Average loss: 0.0001, Accuracy: 9831/10000 (98.31%)\n",
      "\n",
      "Train Epoch: 2 [0/60000 (0%)]\tLoss: 0.155298\n",
      "Train Epoch: 2 [6400/60000 (11%)]\tLoss: 0.060769\n",
      "Train Epoch: 2 [12800/60000 (21%)]\tLoss: 0.067873\n",
      "Train Epoch: 2 [19200/60000 (32%)]\tLoss: 0.009764\n",
      "Train Epoch: 2 [25600/60000 (43%)]\tLoss: 0.171810\n",
      "Train Epoch: 2 [32000/60000 (53%)]\tLoss: 0.241627\n",
      "Train Epoch: 2 [38400/60000 (64%)]\tLoss: 0.125850\n",
      "Train Epoch: 2 [44800/60000 (75%)]\tLoss: 0.016199\n",
      "Train Epoch: 2 [51200/60000 (85%)]\tLoss: 0.037230\n",
      "Train Epoch: 2 [57600/60000 (96%)]\tLoss: 0.073590\n",
      "\n",
      "Test set: Average loss: 0.0000, Accuracy: 9879/10000 (98.79%)\n",
      "\n",
      "Train Epoch: 3 [0/60000 (0%)]\tLoss: 0.061273\n",
      "Train Epoch: 3 [6400/60000 (11%)]\tLoss: 0.173535\n",
      "Train Epoch: 3 [12800/60000 (21%)]\tLoss: 0.122682\n",
      "Train Epoch: 3 [19200/60000 (32%)]\tLoss: 0.073246\n",
      "Train Epoch: 3 [25600/60000 (43%)]\tLoss: 0.045902\n",
      "Train Epoch: 3 [32000/60000 (53%)]\tLoss: 0.051606\n",
      "Train Epoch: 3 [38400/60000 (64%)]\tLoss: 0.058097\n",
      "Train Epoch: 3 [44800/60000 (75%)]\tLoss: 0.111563\n",
      "Train Epoch: 3 [51200/60000 (85%)]\tLoss: 0.120810\n",
      "Train Epoch: 3 [57600/60000 (96%)]\tLoss: 0.048999\n",
      "\n",
      "Test set: Average loss: 0.0000, Accuracy: 9889/10000 (98.89%)\n",
      "\n",
      "Train Epoch: 4 [0/60000 (0%)]\tLoss: 0.060395\n",
      "Train Epoch: 4 [6400/60000 (11%)]\tLoss: 0.047957\n",
      "Train Epoch: 4 [12800/60000 (21%)]\tLoss: 0.018825\n",
      "Train Epoch: 4 [19200/60000 (32%)]\tLoss: 0.021150\n",
      "Train Epoch: 4 [25600/60000 (43%)]\tLoss: 0.057029\n",
      "Train Epoch: 4 [32000/60000 (53%)]\tLoss: 0.007747\n",
      "Train Epoch: 4 [38400/60000 (64%)]\tLoss: 0.082942\n",
      "Train Epoch: 4 [44800/60000 (75%)]\tLoss: 0.038518\n",
      "Train Epoch: 4 [51200/60000 (85%)]\tLoss: 0.022586\n",
      "Train Epoch: 4 [57600/60000 (96%)]\tLoss: 0.147172\n",
      "\n",
      "Test set: Average loss: 0.0000, Accuracy: 9901/10000 (99.01%)\n",
      "\n",
      "Train Epoch: 5 [0/60000 (0%)]\tLoss: 0.006811\n",
      "Train Epoch: 5 [6400/60000 (11%)]\tLoss: 0.032264\n",
      "Train Epoch: 5 [12800/60000 (21%)]\tLoss: 0.050498\n",
      "Train Epoch: 5 [19200/60000 (32%)]\tLoss: 0.029952\n",
      "Train Epoch: 5 [25600/60000 (43%)]\tLoss: 0.024262\n",
      "Train Epoch: 5 [32000/60000 (53%)]\tLoss: 0.010247\n",
      "Train Epoch: 5 [38400/60000 (64%)]\tLoss: 0.033431\n",
      "Train Epoch: 5 [44800/60000 (75%)]\tLoss: 0.070960\n",
      "Train Epoch: 5 [51200/60000 (85%)]\tLoss: 0.007566\n",
      "Train Epoch: 5 [57600/60000 (96%)]\tLoss: 0.011453\n",
      "\n",
      "Test set: Average loss: 0.0000, Accuracy: 9895/10000 (98.95%)\n",
      "\n",
      "Train Epoch: 6 [0/60000 (0%)]\tLoss: 0.031515\n",
      "Train Epoch: 6 [6400/60000 (11%)]\tLoss: 0.027964\n",
      "Train Epoch: 6 [12800/60000 (21%)]\tLoss: 0.041801\n",
      "Train Epoch: 6 [19200/60000 (32%)]\tLoss: 0.010305\n",
      "Train Epoch: 6 [25600/60000 (43%)]\tLoss: 0.019191\n",
      "Train Epoch: 6 [32000/60000 (53%)]\tLoss: 0.048888\n",
      "Train Epoch: 6 [38400/60000 (64%)]\tLoss: 0.009732\n",
      "Train Epoch: 6 [44800/60000 (75%)]\tLoss: 0.028951\n",
      "Train Epoch: 6 [51200/60000 (85%)]\tLoss: 0.104729\n",
      "Train Epoch: 6 [57600/60000 (96%)]\tLoss: 0.001949\n",
      "\n",
      "Test set: Average loss: 0.0000, Accuracy: 9918/10000 (99.18%)\n",
      "\n",
      "Train Epoch: 7 [0/60000 (0%)]\tLoss: 0.003318\n",
      "Train Epoch: 7 [6400/60000 (11%)]\tLoss: 0.015873\n",
      "Train Epoch: 7 [12800/60000 (21%)]\tLoss: 0.037979\n",
      "Train Epoch: 7 [19200/60000 (32%)]\tLoss: 0.008020\n",
      "Train Epoch: 7 [25600/60000 (43%)]\tLoss: 0.038008\n",
      "Train Epoch: 7 [32000/60000 (53%)]\tLoss: 0.037479\n",
      "Train Epoch: 7 [38400/60000 (64%)]\tLoss: 0.102609\n",
      "Train Epoch: 7 [44800/60000 (75%)]\tLoss: 0.001435\n",
      "Train Epoch: 7 [51200/60000 (85%)]\tLoss: 0.052208\n",
      "Train Epoch: 7 [57600/60000 (96%)]\tLoss: 0.018189\n",
      "\n",
      "Test set: Average loss: 0.0000, Accuracy: 9891/10000 (98.91%)\n",
      "\n",
      "Train Epoch: 8 [0/60000 (0%)]\tLoss: 0.032807\n",
      "Train Epoch: 8 [6400/60000 (11%)]\tLoss: 0.020068\n",
      "Train Epoch: 8 [12800/60000 (21%)]\tLoss: 0.007678\n",
      "Train Epoch: 8 [19200/60000 (32%)]\tLoss: 0.015911\n",
      "Train Epoch: 8 [25600/60000 (43%)]\tLoss: 0.046662\n",
      "Train Epoch: 8 [32000/60000 (53%)]\tLoss: 0.012244\n",
      "Train Epoch: 8 [38400/60000 (64%)]\tLoss: 0.008940\n",
      "Train Epoch: 8 [44800/60000 (75%)]\tLoss: 0.032829\n",
      "Train Epoch: 8 [51200/60000 (85%)]\tLoss: 0.003900\n",
      "Train Epoch: 8 [57600/60000 (96%)]\tLoss: 0.063087\n",
      "\n",
      "Test set: Average loss: 0.0000, Accuracy: 9904/10000 (99.04%)\n",
      "\n",
      "Train Epoch: 9 [0/60000 (0%)]\tLoss: 0.036605\n",
      "Train Epoch: 9 [6400/60000 (11%)]\tLoss: 0.014547\n",
      "Train Epoch: 9 [12800/60000 (21%)]\tLoss: 0.001292\n",
      "Train Epoch: 9 [19200/60000 (32%)]\tLoss: 0.005332\n",
      "Train Epoch: 9 [25600/60000 (43%)]\tLoss: 0.014246\n",
      "Train Epoch: 9 [32000/60000 (53%)]\tLoss: 0.013497\n",
      "Train Epoch: 9 [38400/60000 (64%)]\tLoss: 0.065646\n",
      "Train Epoch: 9 [44800/60000 (75%)]\tLoss: 0.022290\n",
      "Train Epoch: 9 [51200/60000 (85%)]\tLoss: 0.003687\n",
      "Train Epoch: 9 [57600/60000 (96%)]\tLoss: 0.076809\n",
      "\n",
      "Test set: Average loss: 0.0000, Accuracy: 9912/10000 (99.12%)\n",
      "\n",
      "Train Epoch: 10 [0/60000 (0%)]\tLoss: 0.019168\n",
      "Train Epoch: 10 [6400/60000 (11%)]\tLoss: 0.032568\n",
      "Train Epoch: 10 [12800/60000 (21%)]\tLoss: 0.001805\n",
      "Train Epoch: 10 [19200/60000 (32%)]\tLoss: 0.021636\n",
      "Train Epoch: 10 [25600/60000 (43%)]\tLoss: 0.016323\n",
      "Train Epoch: 10 [32000/60000 (53%)]\tLoss: 0.028460\n",
      "Train Epoch: 10 [38400/60000 (64%)]\tLoss: 0.024634\n",
      "Train Epoch: 10 [44800/60000 (75%)]\tLoss: 0.028206\n",
      "Train Epoch: 10 [51200/60000 (85%)]\tLoss: 0.011862\n",
      "Train Epoch: 10 [57600/60000 (96%)]\tLoss: 0.002198\n",
      "\n",
      "Test set: Average loss: 0.0000, Accuracy: 9910/10000 (99.10%)\n",
      "\n"
     ]
    }
   ],
   "source": [
    "# Train model\n",
    "num_epochs = 10\n",
    "train_losses, test_losses, accuracies = [], [], []\n",
    "\n",
    "for epoch in range(1, num_epochs + 1):\n",
    "    train(model, train_loader, optimizer, epoch)\n",
    "    test_loss, accuracy = test(model, test_loader)\n",
    "    train_losses.append(criterion(model(next(iter(train_loader))[0].to(device)), next(iter(train_loader))[1].to(device)).item())\n",
    "    test_losses.append(test_loss)\n",
    "    accuracies.append(accuracy)\n"
   ]
  },
  {
   "cell_type": "markdown",
   "id": "d74e0ef0",
   "metadata": {},
   "source": [
    "# **8. Display result**"
   ]
  },
  {
   "cell_type": "code",
   "execution_count": 11,
   "id": "e554ee4f",
   "metadata": {},
   "outputs": [
    {
     "data": {
      "image/png": "[encoded data removed]",
      "text/plain": [
       "<Figure size 1200x400 with 2 Axes>"
      ]
     },
     "metadata": {},
     "output_type": "display_data"
    }
   ],
   "source": [
    "plt.figure(figsize=(12, 4))\n",
    "plt.subplot(121)\n",
    "plt.plot(range(1, num_epochs + 1), train_losses, label='Train Loss')\n",
    "plt.plot(range(1, num_epochs + 1), test_losses, label='Test Loss')\n",
    "plt.xlabel('Epoch')\n",
    "plt.ylabel('Loss')\n",
    "plt.legend()\n",
    "\n",
    "plt.subplot(122)\n",
    "plt.plot(range(1, num_epochs + 1), accuracies)\n",
    "plt.xlabel('Epoch')\n",
    "plt.ylabel('Accuracy (%)')\n",
    "plt.title('Test Accuracy')\n",
    "\n",
    "plt.tight_layout()\n",
    "plt.show()"
   ]
  },
  {
   "cell_type": "markdown",
   "id": "67f79f21",
   "metadata": {},
   "source": [
    "# **9. Save model**"
   ]
  },
  {
   "cell_type": "code",
   "execution_count": 12,
   "id": "f3262852",
   "metadata": {},
   "outputs": [],
   "source": [
    "torch.save(model.state_dict(), './model_params/cnn.pt')"
   ]
  },
  {
   "cell_type": "code",
   "execution_count": null,
   "id": "77a3a8bd",
   "metadata": {},
   "outputs": [],
   "source": [
    "# How to load model parameters?\n",
    "# state_dict = torch.load('./model_params/cnn.pt')\n",
    "# new_model = CNN()\n",
    "# new_model.load_state_dict(state_dict=state_dict)"
   ]
  }
 ],
 "metadata": {
  "kernelspec": {
   "display_name": "Python 3 (ipykernel)",
   "language": "python",
   "name": "python3"
  },
  "language_info": {
   "codemirror_mode": {
    "name": "ipython",
    "version": 3
   },
   "file_extension": ".py",
   "mimetype": "text/x-python",
   "name": "python",
   "nbconvert_exporter": "python",
   "pygments_lexer": "ipython3",
   "version": "3.12.4"
  }
 },
 "nbformat": 4,
 "nbformat_minor": 5
}
